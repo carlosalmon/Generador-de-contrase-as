{
  "nbformat": 4,
  "nbformat_minor": 0,
  "metadata": {
    "colab": {
      "provenance": [],
      "authorship_tag": "ABX9TyPQl7zqSKJx6d78YsKw7k2L",
      "include_colab_link": true
    },
    "kernelspec": {
      "name": "python3",
      "display_name": "Python 3"
    },
    "language_info": {
      "name": "python"
    }
  },
  "cells": [
    {
      "cell_type": "markdown",
      "metadata": {
        "id": "view-in-github",
        "colab_type": "text"
      },
      "source": [
        "<a href=\"https://colab.research.google.com/github/carlosalmon/Generador-de-contrase-as/blob/main/generador_contrase%C3%B1as.ipynb\" target=\"_parent\"><img src=\"https://colab.research.google.com/assets/colab-badge.svg\" alt=\"Open In Colab\"/></a>"
      ]
    },
    {
      "cell_type": "code",
      "execution_count": 26,
      "metadata": {
        "colab": {
          "base_uri": "https://localhost:8080/"
        },
        "id": "FBZ3v0AfOVCU",
        "outputId": "69acc644-7929-4cbc-b214-9efb79ac818e"
      },
      "outputs": [
        {
          "output_type": "stream",
          "name": "stdout",
          "text": [
            "gU0y|4R{\n"
          ]
        }
      ],
      "source": [
        "#generador de contrasenas\n",
        "import re\n",
        "import secrets\n",
        "import string\n",
        "\n",
        "def generar_contraseña(longitud, nums, caracteres_especiales, mayusculas, minusculas):\n",
        "    # Define los posibles caracteres para la contraseña\n",
        "    letras = string.ascii_letters\n",
        "    digitos = string.digits\n",
        "    simbolos = string.punctuation\n",
        "\n",
        "    # Combina todos los caracteres\n",
        "    todos_los_caracteres = letras + digitos + simbolos\n",
        "\n",
        "\n",
        "    while True:\n",
        "        contraseña = ''\n",
        "        # Genera la contraseña\n",
        "        for _ in range(longitud):\n",
        "            contraseña += secrets.choice(todos_los_caracteres)\n",
        "\n",
        "        restricciones = [\n",
        "            (nums, r'\\d'),\n",
        "            (minusculas, r'[a-z]'),\n",
        "            (mayusculas, r'[A-Z]'),\n",
        "            (caracteres_especiales, fr'[{simbolos}]')\n",
        "        ]\n",
        "\n",
        "        # Verifica las restricciones\n",
        "        count = 0\n",
        "        for restriccion, patron in restricciones:\n",
        "            if restriccion <= len(re.findall(patron, contraseña)):\n",
        "                count += 1\n",
        "\n",
        "        if count == 4:\n",
        "            break\n",
        "\n",
        "    return contraseña\n",
        "\n",
        "nueva_contraseña = generar_contraseña(8, 2, 2, 2, 2)\n",
        "print(nueva_contraseña)"
      ]
    },
    {
      "cell_type": "code",
      "source": [
        "def main():\n",
        "  print('Bienvenidos al generador automatico de contraseña en Gogle colab y python\\n')\n",
        "  longitud = input('Digite la logica de su contraseña: ')\n",
        "  numeros = input('Digite la cantidad de numeros que desea en su contraeña: ')\n",
        "  caracteres_especiales = input('Digite la cantidad de caracteres especiales que desea en su contraseña: ')\n",
        "  mayusculas = input('Digite la cantidad de mayussculas que desea en su contraseña: ')\n",
        "  minusculas = input('Digite la cantidad de minusculas que desea en su contraseña: ')\n",
        "\n",
        "  if longitud.isdigit() and numeros.isdigit() and caracteres_especiales.isdigit() and mayusculas.isdigit() and minusculas.isdigit():\n",
        "    long = int(longitud)\n",
        "    nums = int(numeros)\n",
        "    chars = int(caracteres_especiales)\n",
        "    mayus = int(mayusculas)\n",
        "    minus = int(minusculas)\n",
        "    password = generar_contraseña (long, nums, chars, mayus, minus)\n",
        "    print(f'La nueva contraseña genera es : {password}')\n",
        "  else:\n",
        "    print('Favor de escribir numeros enteros.')\n",
        "    main()\n",
        "\n",
        "\n",
        "\n",
        "\n"
      ],
      "metadata": {
        "id": "uo6YCBEUQPPQ"
      },
      "execution_count": 28,
      "outputs": []
    },
    {
      "cell_type": "code",
      "source": [
        "main()"
      ],
      "metadata": {
        "colab": {
          "base_uri": "https://localhost:8080/"
        },
        "id": "9J57uw3RZp6B",
        "outputId": "27d04414-aea3-4f79-d1b8-300873b304cd"
      },
      "execution_count": 32,
      "outputs": [
        {
          "output_type": "stream",
          "name": "stdout",
          "text": [
            "Bienvenidos al generador automatico de contraseña en Gogle colab y python\n",
            "\n",
            "Digite la logica de su contraseña: 10\n",
            "Digite la cantidad de numeros que desea en su contraeña: 3\n",
            "Digite la cantidad de caracteres especiales que desea en su contraseña: 3\n",
            "Digite la cantidad de mayussculas que desea en su contraseña: 2\n",
            "Digite la cantidad de minusculas que desea en su contraseña: 2\n",
            "La nueva contraseña genera es : 7Vg&9t>F*0\n"
          ]
        }
      ]
    }
  ]
}